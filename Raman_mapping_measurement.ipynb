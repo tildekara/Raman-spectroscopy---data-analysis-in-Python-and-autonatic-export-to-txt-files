{
 "cells": [
  {
   "cell_type": "code",
   "execution_count": null,
   "metadata": {
    "collapsed": false
   },
   "outputs": [],
   "source": [
    "import numpy as np\n",
    "import matplotlib\n",
    "import matplotlib.pyplot as plt\n",
    "from scipy.optimize import curve_fit\n",
    "\n",
    "def double_Lorentz(x, a, b, A, w, x_0, A1, w1, x_01):\n",
    "    return a*x+b+(2*A/np.pi)*(w/(4*(x-x_0)**2 + w**2))+(2*A1/np.pi)*(w1/(4*(x-x_01)**2 + w1**2))\n",
    "\n",
    "def Lorentz(x, a, b, A, w, x_0):\n",
    "    return a*x+b+(2*A/np.pi)*(w/(4*(x-x_0)**2 + w**2))\n",
    "\n",
    "i = 0\n",
    "\n",
    "N = 25 #number of measurements\n",
    "Max = 1700 #maximum index of fitted Raman peak\n",
    "Min = 1500 #minimum index of fitted Raman peak\n",
    "name = 'mapa_'\n",
    "output = 'output_file_'\n",
    "initial_conditions = [0.07, 79, 233240, 13.24, 1591.5, 68090.96, 15.55, 1566.9] #for fitting\n",
    "\n",
    "for m in range(0,N):\n",
    "\n",
    "    data = np.loadtxt(name + str(m) +'.txt')\n",
    "    x = data[:,0]\n",
    "    y = data[:,1]\n",
    "    wave = data[:,2]\n",
    "    intensity = data[:,3]\n",
    "\n",
    "    list_waves, list_intensities, list_x, list_y = [], [], [], []\n",
    "    current_session_beggining = 0\n",
    "    wave_diff_bool = (wave[1:] - wave[:-1]) > 0\n",
    "\n",
    "    beggining_indices = np.where(wave_diff_bool)\n",
    "    beggining_indices = np.append(0, beggining_indices) #zero_index\n",
    "    beggining_indices = np.append(beggining_indices, len(wave)) #first_index\n",
    "    \n",
    "    for i in range(len(beggining_indices[:-1])):\n",
    "        beginning = beggining_indices[i]\n",
    "        ending = beggining_indices[i+1]\n",
    "        if i==0:\n",
    "            current_wave = wave[beginning : ending+1]\n",
    "            current_intensity = intensity[beginning : ending+1]\n",
    "            current_x = x[beginning : ending+1]\n",
    "            current_y = y[beginning : ending+1]\n",
    "        else:\n",
    "            current_wave = wave[beginning+1 : ending+1]\n",
    "            current_intensity = intensity[beginning+1 : ending+1]\n",
    "            current_x = x[beginning+1 : ending+1]\n",
    "            current_y = y[beginning+1 : ending+1]\n",
    "        \n",
    "        list_waves.append(current_wave)\n",
    "        list_intensities.append(current_intensity)\n",
    "        list_x.append(current_x)\n",
    "        list_y.append(current_y)\n",
    "\n",
    "    n = 0\n",
    "    index_G_end=0\n",
    "    index_G_begin=0\n",
    "    for i in range(len(list_waves)): #here we choose which of the Raman peaks will be fitted\n",
    "        while list_waves[i][n] > Max: #this examle was made for carbon nanotubes G mode\n",
    "            n = n+1\n",
    "            index_G_begin=n\n",
    "        while list_waves[i][n] > Min:\n",
    "            n = n+1\n",
    "            index_G_end=n\n",
    "        n=1\n",
    "    \n",
    "    \n",
    "    for i in range(len(list_waves)):\n",
    "        intens_plot =list_intensities[i][index_G_begin:index_G_end]\n",
    "        wave_plot =list_waves[i][index_G_begin:index_G_end] \n",
    "\n",
    "    x_zeros, w_G, A_G = [], [], []\n",
    "\n",
    "    for i in range(len(list_waves)): #fitting double Lorentz function to G mode\n",
    "        intens_plot =list_intensities[i][index_G_begin:index_G_end]\n",
    "        wave_plot =list_waves[i][index_G_begin:index_G_end]\n",
    "        parametry, niepewnosci = curve_fit(double_Lorentz, wave_plot, intens_plot, initial_conditions)\n",
    "        a, b, A, w, x_0, A1, w1, x_01 = parametry\n",
    "        x_fit = np.linspace(wave_plot.min(), wave_plot.max(), 1000)\n",
    "        y_fit = double_Lorentz(x_fit, a, b, A, w, x_0, A1, w1, x_01)\n",
    "        x_zeros.append(x_0)\n",
    "        w_G.append(w)\n",
    "        A_G.append(A)\n",
    "    \n",
    "    plt.plot(x_fit, y_fit, wave_plot, intens_plot) #allows to see how well the curve has been fitted however will open a plot in separate window for each measurement\n",
    "    plt.show() \n",
    "\n",
    "    powdata=open(output+str(m)+\".txt\",\"w\")\n",
    "    for val in zip(x_zeros, w_G, A_G):\n",
    "        powdata.write('{} \\t {} \\t {}\\n'.format(val[0], val[1], val[2]))\n",
    "    powdata.close()"
   ]
  },
  {
   "cell_type": "code",
   "execution_count": null,
   "metadata": {
    "collapsed": true
   },
   "outputs": [],
   "source": []
  },
  {
   "cell_type": "code",
   "execution_count": null,
   "metadata": {
    "collapsed": false
   },
   "outputs": [],
   "source": []
  },
  {
   "cell_type": "code",
   "execution_count": null,
   "metadata": {
    "collapsed": false
   },
   "outputs": [],
   "source": []
  },
  {
   "cell_type": "code",
   "execution_count": null,
   "metadata": {
    "collapsed": true
   },
   "outputs": [],
   "source": []
  }
 ],
 "metadata": {
  "kernelspec": {
   "display_name": "Python 3",
   "language": "python",
   "name": "python3"
  },
  "language_info": {
   "codemirror_mode": {
    "name": "ipython",
    "version": 3
   },
   "file_extension": ".py",
   "mimetype": "text/x-python",
   "name": "python",
   "nbconvert_exporter": "python",
   "pygments_lexer": "ipython3",
   "version": "3.5.1"
  }
 },
 "nbformat": 4,
 "nbformat_minor": 0
}
